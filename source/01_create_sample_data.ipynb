{
 "cells": [
  {
   "cell_type": "code",
   "execution_count": 0,
   "metadata": {
    "application/vnd.databricks.v1+cell": {
     "cellMetadata": {
      "byteLimit": 2048000,
      "rowLimit": 10000
     },
     "inputWidgets": {},
     "nuid": "f36cb074-f2bc-4b20-ba4b-6940698f0fdb",
     "showTitle": false,
     "tableResultSettingsMap": {},
     "title": ""
    }
   },
   "outputs": [
    {
     "output_type": "stream",
     "name": "stdout",
     "output_type": "stream",
     "text": [
      "Out[4]: True"
     ]
    }
   ],
   "source": [
    "dbutils.fs.mkdirs(\"/data\")\n",
    "dbutils.fs.mkdirs(\"/data/landing\")\n",
    "dbutils.fs.mkdirs(\"/data/staging\")\n"
   ]
  },
  {
   "cell_type": "code",
   "execution_count": 0,
   "metadata": {
    "application/vnd.databricks.v1+cell": {
     "cellMetadata": {
      "byteLimit": 2048000,
      "rowLimit": 10000
     },
     "inputWidgets": {},
     "nuid": "727f22ae-ba74-4bac-b16f-d57e1a43ca39",
     "showTitle": false,
     "tableResultSettingsMap": {},
     "title": ""
    }
   },
   "outputs": [],
   "source": [
    "import random\n",
    "import csv\n",
    "from datetime import datetime, timedelta\n",
    "import os\n",
    "# Define parameters\n",
    "num_records = 1000\n",
    "start_date = datetime(2024, 12, 1)\n",
    "# CSV fieldnames\n",
    "fields = [\"transaction_id\", \"customer_id\", \"product_id\", \"quantity\",\"total_price\", \"sales_date\"]\n",
    "# Generate random data\n",
    "with open(\"/dbfs/data/landing/sales_data_20241224.csv\", mode='w', newline='') as file:\n",
    "    writer = csv.DictWriter(file, fieldnames=fields)\n",
    "    writer.writeheader()\n",
    "    for i in range(1, num_records + 1):\n",
    "        transaction_id = i\n",
    "        customer_id = random.randint(100, 200)\n",
    "        product_id = random.randint(300, 400)\n",
    "        quantity = random.randint(1, 10)\n",
    "        total_price = round(quantity * random.uniform(10, 100), 2)\n",
    "        sales_date = (start_date + timedelta(days=random.randint(0, 22))).strftime(\"%Y-%m-%d\")\n",
    "        writer.writerow({\"transaction_id\": transaction_id,\"customer_id\": customer_id,\"product_id\": product_id,\"quantity\": quantity,\"total_price\": total_price,\"sales_date\": sales_date})"
   ]
  },
  {
   "cell_type": "code",
   "execution_count": 0,
   "metadata": {
    "application/vnd.databricks.v1+cell": {
     "cellMetadata": {
      "byteLimit": 2048000,
      "rowLimit": 10000
     },
     "inputWidgets": {},
     "nuid": "baa2ecf2-9ed4-4d34-979e-0eedf0ed8acd",
     "showTitle": false,
     "tableResultSettingsMap": {},
     "title": ""
    }
   },
   "outputs": [],
   "source": [
    "import json\n",
    "import random\n",
    "from datetime import datetime, timedelta\n",
    "# Define parameters\n",
    "\n",
    "num_records = 1000\n",
    "start_date = datetime(2024, 12, 1)\n",
    "# Generate random data\n",
    "sales_data = []\n",
    "for i in range(1, num_records + 1):\n",
    "    transaction_id = i\n",
    "    customer_id = random.randint(100, 200)\n",
    "    product_id = random.randint(300, 400)\n",
    "    quantity = random.randint(1, 10)\n",
    "    total_price = round(quantity * random.uniform(10, 100), 2)\n",
    "    sales_date = (start_date + timedelta(days=random.randint(0,22))).strftime(\"%Y-%m-%d\")\n",
    "    sales_data.append({\"transaction_id\": transaction_id,\"customer_id\": customer_id,\"product_id\": product_id,\"quantity\": quantity,\"total_price\": total_price,\"sales_date\": sales_date})\n",
    "# Write to JSON file\n",
    "with open(\"/dbfs/data/landing/sales_data.json\", \"w\") as json_file:\n",
    "    json.dump(sales_data, json_file, indent=4)\n"
   ]
  }
 ],
 "metadata": {
  "application/vnd.databricks.v1+notebook": {
   "computePreferences": null,
   "dashboards": [],
   "environmentMetadata": {
    "base_environment": "",
    "client": "1"
   },
   "language": "python",
   "notebookMetadata": {
    "mostRecentlyExecutedCommandWithImplicitDF": {
     "commandId": 3070269075286141,
     "dataframes": [
      "_sqldf"
     ]
    },
    "pythonIndentUnit": 4
   },
   "notebookName": "01_create_sample_data",
   "widgets": {}
  },
  "language_info": {
   "name": "python"
  }
 },
 "nbformat": 4,
 "nbformat_minor": 0
}